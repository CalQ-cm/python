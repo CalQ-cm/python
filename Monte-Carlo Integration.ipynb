{
 "cells": [
  {
   "cell_type": "code",
   "execution_count": 1,
   "metadata": {},
   "outputs": [],
   "source": [
    "%matplotlib inline\n",
    "from scipy import random\n",
    "import numpy as np\n",
    "import matplotlib.pyplot as plt"
   ]
  },
  {
   "cell_type": "code",
   "execution_count": 2,
   "metadata": {},
   "outputs": [],
   "source": [
    "a=0          #Lower limit of integration\n",
    "b=np.pi      #Upper limit of integration \n",
    "N=1000       #Number of points"
   ]
  },
  {
   "cell_type": "code",
   "execution_count": 19,
   "metadata": {},
   "outputs": [
    {
     "name": "stdout",
     "output_type": "stream",
     "text": [
      "1.956252045269252\n"
     ]
    }
   ],
   "source": [
    "xrand=random.uniform(a,b,N) #Random sample over interval\n",
    "\n",
    "def fun(x):\n",
    "    return np.sin(x)  # This function will be integrated\n",
    "\n",
    "I=0.0 #Initial value of integral\n",
    "\n",
    "for i in range(N):\n",
    "     #I1 += fun(xrand[i])\n",
    "     I += fun(xrand[i])  \n",
    "\n",
    "answer=(b-a)/float(N)*I\n",
    "print(answer)\n"
   ]
  },
  {
   "cell_type": "code",
   "execution_count": 21,
   "metadata": {},
   "outputs": [
    {
     "data": {
      "text/plain": [
       "Text(0.5, 0, 'Areas')"
      ]
     },
     "execution_count": 21,
     "metadata": {},
     "output_type": "execute_result"
    },
    {
     "data": {
      "image/png": "[encoded data removed]",
      "text/plain": [
       "<Figure size 432x288 with 1 Axes>"
      ]
     },
     "metadata": {
      "needs_background": "light"
     },
     "output_type": "display_data"
    }
   ],
   "source": [
    "areas=[]\n",
    "for i in range(N):\n",
    "    xrand=random.uniform(a,b,N) #Random sample over interval\n",
    "    I=0.0 #Initial value of integral\n",
    "    \n",
    "    for i in range(N):\n",
    "     #I1 += fun(xrand[i])\n",
    "     I += fun(xrand[i])  \n",
    "\n",
    "    answer=(b-a)/float(N)*I\n",
    "    areas.append(answer)\n",
    "    \n",
    "#Plot areas in Histogram    \n",
    "plt.title('Distribution of areas calculated')\n",
    "plt.hist(areas,bins=30,ec='black')   \n",
    "plt.xlabel(\"Areas\")"
   ]
  },
  {
   "cell_type": "code",
   "execution_count": null,
   "metadata": {},
   "outputs": [],
   "source": []
  }
 ],
 "metadata": {
  "kernelspec": {
   "display_name": "Python 3",
   "language": "python",
   "name": "python3"
  },
  "language_info": {
   "codemirror_mode": {
    "name": "ipython",
    "version": 3
   },
   "file_extension": ".py",
   "mimetype": "text/x-python",
   "name": "python",
   "nbconvert_exporter": "python",
   "pygments_lexer": "ipython3",
   "version": "3.7.3"
  }
 },
 "nbformat": 4,
 "nbformat_minor": 2
}
